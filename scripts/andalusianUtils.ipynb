{
 "cells": [
  {
   "cell_type": "markdown",
   "metadata": {},
   "source": [
    "# Helper tools to process data for their use in the tool"
   ]
  },
  {
   "cell_type": "code",
   "execution_count": 1,
   "metadata": {},
   "outputs": [],
   "source": [
    "from music21 import *\n",
    "import os"
   ]
  },
  {
   "cell_type": "markdown",
   "metadata": {},
   "source": [
    "## Search patterns in score\n",
    "It requires a score with just the section corresponding to the recording to be used in the tool"
   ]
  },
  {
   "cell_type": "code",
   "execution_count": 2,
   "metadata": {},
   "outputs": [
    {
     "name": "stdout",
     "output_type": "stream",
     "text": [
      "../../b11237b9-d45b-4b3a-a97b-ab7d198f927f-mu2-NOFADE\\b11237b9-d45b-4b3a-a97b-ab7d198f927f-mu2.musicxml\n"
     ]
    }
   ],
   "source": [
    "filefolder = '../../b11237b9-d45b-4b3a-a97b-ab7d198f927f-mu2-NOFADE'\n",
    "filename = 'b11237b9-d45b-4b3a-a97b-ab7d198f927f-mu2.musicxml'\n",
    "\n",
    "filepath = os.path.join(filefolder, filename)\n",
    "print(filepath)"
   ]
  },
  {
   "cell_type": "code",
   "execution_count": 3,
   "metadata": {},
   "outputs": [],
   "source": [
    "patterns = {\n",
    "    'almaya': [\n",
    "        (4, 'C5B4A4G4'),\n",
    "        (3, 'E4F4G4'),\n",
    "        (3, 'B-4A4G4'),\n",
    "        (4, 'A4G4F4E4'),\n",
    "        (4, 'G4A4B4C5'),\n",
    "        (3, 'B3D4C4'),\n",
    "        (7, 'F4G4E4F4E4D4C4')]\n",
    "}\n",
    "\n",
    "colors = ['red', 'blue', 'green', 'fuchsia', 'aqua', 'olive', 'maroon', 'navy', 'teal', 'purple', 'lime', 'yellow']"
   ]
  },
  {
   "cell_type": "code",
   "execution_count": 12,
   "metadata": {},
   "outputs": [],
   "source": [
    "s = converter.parse(filepath)\n",
    "p = s.parts[0]\n",
    "nr = p.flat.notesAndRests.stream()"
   ]
  },
  {
   "cell_type": "markdown",
   "metadata": {},
   "source": [
    "Search patterns for the selected tab'"
   ]
  },
  {
   "cell_type": "code",
   "execution_count": 13,
   "metadata": {},
   "outputs": [
    {
     "name": "stdout",
     "output_type": "stream",
     "text": [
      "Patterns found:\n",
      "  C5B4A4G4: 0 (red)\n",
      "  E4F4G4: 39 (blue)\n",
      "  B-4A4G4: 6 (green)\n",
      "  A4G4F4E4: 3 (fuchsia)\n",
      "  G4A4B4C5: 3 (aqua)\n",
      "  B3D4C4: 12 (olive)\n",
      "  F4G4E4F4E4D4C4: 30 (maroon)\n"
     ]
    }
   ],
   "source": [
    "tab = 'almaya'\n",
    "\n",
    "print('Patterns found:')\n",
    "\n",
    "found_patterns = {}\n",
    "\n",
    "position = 'above'\n",
    "\n",
    "for pattern in patterns[tab]:\n",
    "    pl = pattern[0] # pattern length\n",
    "    ps = pattern[1] # pattern sequence\n",
    "    color = colors[patterns[tab].index(pattern)]\n",
    "    occurrences = 0\n",
    "    for i in range(len(nr)-pl):\n",
    "        allNotes = True\n",
    "        sequence = ''\n",
    "        for j in range(pl):\n",
    "            n = nr[i + j]\n",
    "            if n.isNote:\n",
    "                sequence += n.nameWithOctave\n",
    "            else:\n",
    "                allNotes = False\n",
    "        if allNotes and ps == sequence:\n",
    "            occurrences += 1\n",
    "            found_patterns[i] = (pl, position)\n",
    "            for j in range(pl):\n",
    "                n = nr[i + j]\n",
    "                n.style.color = color\n",
    "    if position == 'above':\n",
    "        position = 'below'\n",
    "    elif position == 'below':\n",
    "        position = 'above'\n",
    "            \n",
    "    print('  {}: {} ({})'.format(ps, occurrences, color))\n",
    "\n",
    "# s.show()"
   ]
  },
  {
   "cell_type": "markdown",
   "metadata": {},
   "source": [
    "Add bracket lines for the found patterns"
   ]
  },
  {
   "cell_type": "code",
   "execution_count": 14,
   "metadata": {},
   "outputs": [],
   "source": [
    "for k in sorted(found_patterns.keys()):\n",
    "    line = spanner.Slur()\n",
    "    for i in range(found_patterns[k][0]):\n",
    "        n = nr[k + i]\n",
    "        line.addSpannedElements(n)\n",
    "    line.placement = found_patterns[k][1]\n",
    "    p.insert(line)\n",
    "\n",
    "s.show()"
   ]
  },
  {
   "cell_type": "code",
   "execution_count": null,
   "metadata": {},
   "outputs": [],
   "source": []
  }
 ],
 "metadata": {
  "kernelspec": {
   "display_name": "Python 3",
   "language": "python",
   "name": "python3"
  },
  "language_info": {
   "codemirror_mode": {
    "name": "ipython",
    "version": 3
   },
   "file_extension": ".py",
   "mimetype": "text/x-python",
   "name": "python",
   "nbconvert_exporter": "python",
   "pygments_lexer": "ipython3",
   "version": "3.7.7"
  }
 },
 "nbformat": 4,
 "nbformat_minor": 4
}
