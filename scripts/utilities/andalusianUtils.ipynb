{
 "cells": [
  {
   "cell_type": "markdown",
   "metadata": {},
   "source": [
    "# Helper tools to process data for their use in the tool"
   ]
  },
  {
   "cell_type": "code",
   "execution_count": null,
   "metadata": {},
   "outputs": [],
   "source": [
    "from music21 import *\n",
    "import predominantmelodymakam as pmm\n",
    "import json\n",
    "import os"
   ]
  },
  {
   "cell_type": "markdown",
   "metadata": {},
   "source": [
    "## Search patterns in score\n",
    "It requires a score with just the section corresponding to the recording to be used in the tool"
   ]
  },
  {
   "cell_type": "code",
   "execution_count": null,
   "metadata": {},
   "outputs": [],
   "source": [
    "filefolder = '../../b11237b9-d45b-4b3a-a97b-ab7d198f927f-mu2-NOFADE'\n",
    "filename = 'b11237b9-d45b-4b3a-a97b-ab7d198f927f-mu2.musicxml'\n",
    "\n",
    "filepath = os.path.join(filefolder, filename)\n",
    "print(filepath)"
   ]
  },
  {
   "cell_type": "code",
   "execution_count": null,
   "metadata": {},
   "outputs": [],
   "source": [
    "patterns = {\n",
    "    'almaya': [\n",
    "        (4, 'C5B4A4G4'),\n",
    "        (3, 'E4F4G4'),\n",
    "        (3, 'B-4A4G4'),\n",
    "        (4, 'A4G4F4E4'),\n",
    "        (4, 'G4A4B4C5'),\n",
    "        (3, 'B3D4C4'),\n",
    "        (7, 'F4G4E4F4E4D4C4')]\n",
    "}\n",
    "\n",
    "colors = ['red', 'blue', 'green', 'fuchsia', 'aqua', 'olive', 'maroon', 'navy', 'teal', 'purple', 'lime', 'yellow']"
   ]
  },
  {
   "cell_type": "code",
   "execution_count": null,
   "metadata": {},
   "outputs": [],
   "source": [
    "s = converter.parse(filepath)\n",
    "p = s.parts[0]\n",
    "nr = p.flat.notesAndRests.stream()"
   ]
  },
  {
   "cell_type": "markdown",
   "metadata": {},
   "source": [
    "Search patterns for the selected tab'"
   ]
  },
  {
   "cell_type": "code",
   "execution_count": null,
   "metadata": {},
   "outputs": [],
   "source": [
    "tab = 'almaya'\n",
    "\n",
    "print('Patterns found:')\n",
    "\n",
    "found_patterns = {}\n",
    "\n",
    "position = 'above'\n",
    "\n",
    "for pattern in patterns[tab]:\n",
    "    pl = pattern[0] # pattern length\n",
    "    ps = pattern[1] # pattern sequence\n",
    "    color = colors[patterns[tab].index(pattern)]\n",
    "    occurrences = 0\n",
    "    for i in range(len(nr)-pl):\n",
    "        allNotes = True\n",
    "        sequence = ''\n",
    "        for j in range(pl):\n",
    "            n = nr[i + j]\n",
    "            if n.isNote:\n",
    "                sequence += n.nameWithOctave\n",
    "            else:\n",
    "                allNotes = False\n",
    "        if allNotes and ps == sequence:\n",
    "            occurrences += 1\n",
    "            found_patterns[i] = (pl, position)\n",
    "            for j in range(pl):\n",
    "                n = nr[i + j]\n",
    "                n.style.color = color\n",
    "    if position == 'above':\n",
    "        position = 'below'\n",
    "    elif position == 'below':\n",
    "        position = 'above'\n",
    "            \n",
    "    print('  {}: {} ({})'.format(ps, occurrences, color))\n",
    "\n",
    "# s.show()"
   ]
  },
  {
   "cell_type": "markdown",
   "metadata": {},
   "source": [
    "Add bracket lines for the found patterns"
   ]
  },
  {
   "cell_type": "code",
   "execution_count": null,
   "metadata": {},
   "outputs": [],
   "source": [
    "for k in sorted(found_patterns.keys()):\n",
    "    line = spanner.Slur()\n",
    "    for i in range(found_patterns[k][0]):\n",
    "        n = nr[k + i]\n",
    "        line.addSpannedElements(n)\n",
    "    line.placement = found_patterns[k][1]\n",
    "    p.insert(line)\n",
    "\n",
    "s.show()"
   ]
  },
  {
   "cell_type": "markdown",
   "metadata": {},
   "source": [
    "## Beats\n",
    "Transform SV annotation layer to json object"
   ]
  },
  {
   "cell_type": "code",
   "execution_count": null,
   "metadata": {},
   "outputs": [],
   "source": [
    "filefolder = '../../b11237b9-d45b-4b3a-a97b-ab7d198f927f-mu2-NOFADE'\n",
    "filename = 'b11237b9-d45b-4b3a-a97b-ab7d198f927f-mu2-NOFADE-beats.txt'\n",
    "\n",
    "filepath = os.path.join(filefolder, filename)\n",
    "print(filepath)"
   ]
  },
  {
   "cell_type": "code",
   "execution_count": null,
   "metadata": {},
   "outputs": [],
   "source": [
    "with open(filepath, 'r') as f:\n",
    "    data = f.readlines()"
   ]
  },
  {
   "cell_type": "code",
   "execution_count": null,
   "metadata": {},
   "outputs": [],
   "source": [
    "tak = []\n",
    "dum = []\n",
    "\n",
    "for d in data:\n",
    "    time = round(float(d.split('\\t')[0]), 2)\n",
    "    beat = d.rstrip()[-1]\n",
    "    if beat == '3':\n",
    "        dum.append(time)\n",
    "    else:\n",
    "        tak.append(time)\n",
    "\n",
    "len(data) == len(tak) + len(dum)"
   ]
  },
  {
   "cell_type": "code",
   "execution_count": null,
   "metadata": {},
   "outputs": [],
   "source": [
    "print(json.dumps({'tak':tak,'dum':dum}, indent=2))"
   ]
  },
  {
   "cell_type": "markdown",
   "metadata": {},
   "source": [
    "## Patterns\n",
    "Transform SV annotation layer to json object"
   ]
  },
  {
   "cell_type": "code",
   "execution_count": null,
   "metadata": {},
   "outputs": [],
   "source": [
    "filefolder = '../../b11237b9-d45b-4b3a-a97b-ab7d198f927f-mu2-NOFADE'\n",
    "filename = 'b11237b9-d45b-4b3a-a97b-ab7d198f927f-mu2-NOFADE-patterns.txt'\n",
    "\n",
    "filepath = os.path.join(filefolder, filename)\n",
    "print(filepath)"
   ]
  },
  {
   "cell_type": "code",
   "execution_count": null,
   "metadata": {},
   "outputs": [],
   "source": [
    "with open(filepath, 'r') as f:\n",
    "    data = f.readlines()"
   ]
  },
  {
   "cell_type": "code",
   "execution_count": null,
   "metadata": {},
   "outputs": [],
   "source": [
    "patterns = {}\n",
    "\n",
    "for d in data:\n",
    "    start = round(float(d.split('\\t')[0]), 2)\n",
    "    end = round(float(d.split('\\t')[0]) + float(d.split('\\t')[2]), 2)\n",
    "    pattern = d.split('\\t')[-1].rstrip()\n",
    "    if pattern[0] != 'P':\n",
    "        print('Annotation error at', start)\n",
    "    if pattern not in patterns:\n",
    "        patterns[pattern] = [{'start':start, 'end':end}]\n",
    "    else:\n",
    "        patterns[pattern].append({'start':start, 'end':end})"
   ]
  },
  {
   "cell_type": "code",
   "execution_count": null,
   "metadata": {},
   "outputs": [],
   "source": [
    "print(json.dumps(patterns, indent=2))"
   ]
  },
  {
   "cell_type": "code",
   "execution_count": null,
   "metadata": {},
   "outputs": [],
   "source": [
    "x = 1067\n",
    "print((x*9)/16)"
   ]
  },
  {
   "cell_type": "markdown",
   "metadata": {},
   "source": [
    "## Extract pitch track"
   ]
  },
  {
   "cell_type": "code",
   "execution_count": null,
   "metadata": {},
   "outputs": [],
   "source": [
    "filefolder = '../../../b11237b9-d45b-4b3a-a97b-ab7d198f927f-mu2-NOFADE'\n",
    "filename = 'b11237b9-d45b-4b3a-a97b-ab7d198f927f-mu2-NOFADE.mp3'\n",
    "\n",
    "filepath = os.path.join(filefolder, filename)\n",
    "print(filepath)"
   ]
  },
  {
   "cell_type": "code",
   "execution_count": null,
   "metadata": {},
   "outputs": [],
   "source": [
    "# Parameters: min_frequency, max_frequency, filter_pitch (bool), peak_distribution_threshold\n",
    "extractor = pmm.PredominantMelodyMakam(min_frequency=100, max_frequency=340, filter_pitch=False, peak_distribution_threshold=2)\n",
    "pitchTrack = extractor.run(filepath)"
   ]
  },
  {
   "cell_type": "code",
   "execution_count": null,
   "metadata": {},
   "outputs": [],
   "source": [
    "pitchTrackTxt = ''\n",
    "for i in pitchTrack['pitch']:\n",
    "    if i[1] == 0:\n",
    "        p = '0'\n",
    "    else:\n",
    "        p = '{:.6f}'.format(i[1])\n",
    "    pitchTrackTxt += '{:.6f}\\t{}\\n'.format(i[0], p)"
   ]
  },
  {
   "cell_type": "code",
   "execution_count": null,
   "metadata": {},
   "outputs": [],
   "source": [
    "minf0 = pitchTrack['settings']['minFrequency']\n",
    "maxf0 = pitchTrack['settings']['maxFrequency']\n",
    "pdt = pitchTrack['settings']['peakDistributionThreshold']\n",
    "fp = pitchTrack['settings']['filterPitch']\n",
    "filePath2write = filepath[:-4] + 'pmm{}-{}-{}-{}.txt'.format(minf0, maxf0, pdt, fp)\n",
    "with open(filePath2write, 'w') as f:\n",
    "    f.write(pitchTrackTxt.rstrip())"
   ]
  },
  {
   "cell_type": "code",
   "execution_count": null,
   "metadata": {},
   "outputs": [],
   "source": []
  }
 ],
 "metadata": {
  "kernelspec": {
   "display_name": "Python 3",
   "language": "python",
   "name": "python3"
  },
  "language_info": {
   "codemirror_mode": {
    "name": "ipython",
    "version": 3
   },
   "file_extension": ".py",
   "mimetype": "text/x-python",
   "name": "python",
   "nbconvert_exporter": "python",
   "pygments_lexer": "ipython3",
   "version": "3.6.9"
  }
 },
 "nbformat": 4,
 "nbformat_minor": 4
}
