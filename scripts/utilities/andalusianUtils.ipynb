{
 "cells": [
  {
   "cell_type": "markdown",
   "metadata": {},
   "source": [
    "# Helper tools to process data for their use in the tool"
   ]
  },
  {
   "cell_type": "code",
   "execution_count": null,
   "metadata": {},
   "outputs": [],
   "source": [
    "from music21 import *\n",
    "# import predominantmelodymakam as pmm\n",
    "# import intonation\n",
    "import numpy as np\n",
    "import json\n",
    "import os"
   ]
  },
  {
   "cell_type": "markdown",
   "metadata": {},
   "source": [
    "## Search patterns in score\n",
    "It requires a score with just the section corresponding to the recording to be used in the tool"
   ]
  },
  {
   "cell_type": "code",
   "execution_count": null,
   "metadata": {},
   "outputs": [],
   "source": [
    "filefolder = '../../../6fe7108c-4e4f-457b-a363-ccf505bdee9a'\n",
    "filename = '6fe7108c-4e4f-457b-a363-ccf505bdee9a-ma1.musicxml'\n",
    "\n",
    "filepath = os.path.join(filefolder, filename)\n",
    "print(filepath)"
   ]
  },
  {
   "cell_type": "code",
   "execution_count": null,
   "metadata": {},
   "outputs": [],
   "source": [
    "patterns = {\n",
    "    'alistihlal': [\n",
    "        (3, 'G4F4E4'),\n",
    "        (3, 'E4F4G4'),\n",
    "        (3, 'F4A4G4'),\n",
    "        (6, 'G4A4B4C4A4G4'),\n",
    "        (3, 'A3B3C4'),\n",
    "        (4, 'F4E4D4C4')\n",
    "    ],\n",
    "    'almaya': [\n",
    "        (3, 'B-4A4G4'),\n",
    "        (3, 'E4F4G4'),\n",
    "        (3, 'B3D4C4'),\n",
    "        (2, 'B3C4'),\n",
    "        (8, 'E4F4G4E4F4E4D4C4'),\n",
    "        (4, 'G4F4E4')]\n",
    "}\n",
    "\n",
    "colors = ['red', 'blue', 'green', 'fuchsia', 'aqua', 'olive', 'maroon', 'navy', 'teal', 'purple', 'lime', 'yellow']"
   ]
  },
  {
   "cell_type": "code",
   "execution_count": null,
   "metadata": {},
   "outputs": [],
   "source": [
    "s = converter.parse(filepath)\n",
    "p = s.parts[0]\n",
    "nr = p.flat.notesAndRests.stream()"
   ]
  },
  {
   "cell_type": "markdown",
   "metadata": {},
   "source": [
    "Search patterns for the selected tab'"
   ]
  },
  {
   "cell_type": "code",
   "execution_count": null,
   "metadata": {},
   "outputs": [],
   "source": [
    "tab = 'alistihlal'\n",
    "\n",
    "print('Patterns found:')\n",
    "\n",
    "found_patterns = {}\n",
    "\n",
    "position = 'above'\n",
    "\n",
    "for pattern in patterns[tab]:\n",
    "    pl = pattern[0] # pattern length\n",
    "    ps = pattern[1] # pattern sequence\n",
    "    color = colors[patterns[tab].index(pattern)]\n",
    "    occurrences = 0\n",
    "    for i in range(len(nr)-pl):\n",
    "        allNotes = True\n",
    "        sequence = ''\n",
    "        for j in range(pl):\n",
    "            n = nr[i + j]\n",
    "            if n.isNote:\n",
    "                sequence += n.nameWithOctave\n",
    "            else:\n",
    "                allNotes = False\n",
    "        if allNotes and ps == sequence:\n",
    "            occurrences += 1\n",
    "            found_patterns[i] = (pl, position)\n",
    "            for j in range(pl):\n",
    "                n = nr[i + j]\n",
    "                n.style.color = color\n",
    "    if position == 'above':\n",
    "        position = 'below'\n",
    "    elif position == 'below':\n",
    "        position = 'above'\n",
    "            \n",
    "    print('  {}: {} ({})'.format(ps, occurrences, color))\n",
    "\n",
    "# s.show()"
   ]
  },
  {
   "cell_type": "markdown",
   "metadata": {},
   "source": [
    "Add bracket lines for the found patterns"
   ]
  },
  {
   "cell_type": "code",
   "execution_count": null,
   "metadata": {},
   "outputs": [],
   "source": [
    "for k in sorted(found_patterns.keys()):\n",
    "    line = spanner.Slur()\n",
    "    for i in range(found_patterns[k][0]):\n",
    "        n = nr[k + i]\n",
    "        line.addSpannedElements(n)\n",
    "    line.placement = found_patterns[k][1]\n",
    "    p.insert(line)\n",
    "\n",
    "s.show()"
   ]
  },
  {
   "cell_type": "markdown",
   "metadata": {},
   "source": [
    "## Beats\n",
    "Transform SV annotation layer to json object"
   ]
  },
  {
   "cell_type": "code",
   "execution_count": null,
   "metadata": {},
   "outputs": [],
   "source": [
    "filefolder = '../../../6fe7108c-4e4f-457b-a363-ccf505bdee9a'\n",
    "filename = '6fe7108c-4e4f-457b-a363-ccf505bdee9a-ma1-beats.txt'\n",
    "\n",
    "filepath = os.path.join(filefolder, filename)\n",
    "print(filepath)"
   ]
  },
  {
   "cell_type": "code",
   "execution_count": null,
   "metadata": {},
   "outputs": [],
   "source": [
    "with open(filepath, 'r') as f:\n",
    "    data = f.readlines()"
   ]
  },
  {
   "cell_type": "code",
   "execution_count": null,
   "metadata": {},
   "outputs": [],
   "source": [
    "mizan = 'btayhi' # basit, qaim_wa_nisf, btayhi, darj, quddam\n",
    "\n",
    "tak = []\n",
    "dum = []\n",
    "\n",
    "for d in data:\n",
    "    time = round(float(d.split('\\t')[0]), 2)\n",
    "    beat = d.rstrip()[-1]\n",
    "    if mizan == 'basit':\n",
    "        pass\n",
    "    elif mizan == 'qaim_wa_nisf':\n",
    "        pass\n",
    "    elif mizan == 'btayhi':\n",
    "        if beat == '1' or beat == '4' or beat == '7':\n",
    "            dum.append(time)\n",
    "        else:\n",
    "            tak.append(time)\n",
    "    elif mizan == 'darj':\n",
    "        pass\n",
    "    elif mizan == 'quddam':\n",
    "        if beat == '3':\n",
    "            dum.append(time)\n",
    "        else:\n",
    "            tak.append(time)\n",
    "\n",
    "len(data) == len(tak) + len(dum)"
   ]
  },
  {
   "cell_type": "code",
   "execution_count": null,
   "metadata": {},
   "outputs": [],
   "source": [
    "print(json.dumps({'tak':tak,'dum':dum}, indent=2))"
   ]
  },
  {
   "cell_type": "markdown",
   "metadata": {},
   "source": [
    "## Patterns\n",
    "Transform SV annotation layer to json object"
   ]
  },
  {
   "cell_type": "code",
   "execution_count": null,
   "metadata": {},
   "outputs": [],
   "source": [
    "filefolder = '../../../6fe7108c-4e4f-457b-a363-ccf505bdee9a'\n",
    "filename = '6fe7108c-4e4f-457b-a363-ccf505bdee9a-ma1-patterns.txt'\n",
    "\n",
    "filepath = os.path.join(filefolder, filename)\n",
    "print(filepath)"
   ]
  },
  {
   "cell_type": "code",
   "execution_count": null,
   "metadata": {},
   "outputs": [],
   "source": [
    "with open(filepath, 'r') as f:\n",
    "    data = f.readlines()"
   ]
  },
  {
   "cell_type": "code",
   "execution_count": null,
   "metadata": {},
   "outputs": [],
   "source": [
    "patterns = {}\n",
    "\n",
    "for d in data:\n",
    "    start = round(float(d.split('\\t')[0]), 2)\n",
    "    end = round(float(d.split('\\t')[0]) + float(d.split('\\t')[2]), 2)\n",
    "    pattern = d.split('\\t')[-1].rstrip()\n",
    "    if pattern[0] != 'C':\n",
    "        print('Annotation error at', start)\n",
    "    if pattern not in patterns:\n",
    "        patterns[pattern] = [{'start':start, 'end':end}]\n",
    "    else:\n",
    "        patterns[pattern].append({'start':start, 'end':end})"
   ]
  },
  {
   "cell_type": "code",
   "execution_count": null,
   "metadata": {},
   "outputs": [],
   "source": [
    "print(json.dumps(patterns, indent=2))"
   ]
  },
  {
   "cell_type": "markdown",
   "metadata": {},
   "source": [
    "## Extract pitch track"
   ]
  },
  {
   "cell_type": "code",
   "execution_count": null,
   "metadata": {},
   "outputs": [],
   "source": [
    "filefolder = '../../../b11237b9-d45b-4b3a-a97b-ab7d198f927f-mu2-NOFADE'\n",
    "filename = 'b11237b9-d45b-4b3a-a97b-ab7d198f927f-mu2-NOFADE.mp3'\n",
    "\n",
    "filepath = os.path.join(filefolder, filename)\n",
    "print(filepath)"
   ]
  },
  {
   "cell_type": "code",
   "execution_count": null,
   "metadata": {},
   "outputs": [],
   "source": [
    "# Parameters: min_frequency, max_frequency, filter_pitch (bool), peak_distribution_threshold\n",
    "extractor = pmm.PredominantMelodyMakam(min_frequency=100, max_frequency=340, filter_pitch=False, peak_distribution_threshold=2)\n",
    "pitchTrack = extractor.run(filepath)"
   ]
  },
  {
   "cell_type": "code",
   "execution_count": null,
   "metadata": {},
   "outputs": [],
   "source": [
    "pitchTrackTxt = ''\n",
    "for i in pitchTrack['pitch']:\n",
    "    if i[1] == 0:\n",
    "        p = '0'\n",
    "    else:\n",
    "        p = '{:.6f}'.format(i[1])\n",
    "    pitchTrackTxt += '{:.6f}\\t{}\\n'.format(i[0], p)"
   ]
  },
  {
   "cell_type": "code",
   "execution_count": null,
   "metadata": {},
   "outputs": [],
   "source": [
    "minf0 = pitchTrack['settings']['minFrequency']\n",
    "maxf0 = pitchTrack['settings']['maxFrequency']\n",
    "pdt = pitchTrack['settings']['peakDistributionThreshold']\n",
    "fp = pitchTrack['settings']['filterPitch']\n",
    "filePath2write = filepath[:-4] + '-pmm{}-{}-{}-{}.txt'.format(minf0, maxf0, pdt, fp)\n",
    "with open(filePath2write, 'w') as f:\n",
    "    f.write(pitchTrackTxt.rstrip())"
   ]
  },
  {
   "cell_type": "markdown",
   "metadata": {},
   "source": [
    "## Generate json pitch track"
   ]
  },
  {
   "cell_type": "code",
   "execution_count": null,
   "metadata": {},
   "outputs": [],
   "source": [
    "filefolder = '../../../b11237b9-d45b-4b3a-a97b-ab7d198f927f-mu2-NOFADE'\n",
    "filename = 'b11237b9-d45b-4b3a-a97b-ab7d198f927f-mu2-NOFADEpmm100-320-2-False.txt'\n",
    "\n",
    "filepath = os.path.join(filefolder, filename)\n",
    "print(filepath)"
   ]
  },
  {
   "cell_type": "code",
   "execution_count": null,
   "metadata": {},
   "outputs": [],
   "source": [
    "pitchTrack = np.loadtxt(filepath)"
   ]
  },
  {
   "cell_type": "code",
   "execution_count": null,
   "metadata": {},
   "outputs": [],
   "source": [
    "f0 = pitchTrack[:,1]\n",
    "timeStamps = pitchTrack[:,0]\n",
    "pitch_obj = intonation.Pitch(timeStamps[f0>0], f0[f0>0])"
   ]
  },
  {
   "cell_type": "code",
   "execution_count": null,
   "metadata": {},
   "outputs": [],
   "source": [
    "rec_obj = intonation.Recording(pitch_obj)"
   ]
  },
  {
   "cell_type": "code",
   "execution_count": null,
   "metadata": {},
   "outputs": [],
   "source": [
    "bins = 1900\n",
    "histogram_computed = False\n",
    "\n",
    "while not histogram_computed:\n",
    "    try:\n",
    "        rec_obj.compute_hist(bins=bins)\n",
    "        rec_obj.histogram.get_peaks()\n",
    "        rec_obj.histogram.plot()\n",
    "        print('Histogram computed with {} bins.'.format(bins))\n",
    "\n",
    "        peaks = rec_obj.histogram.peaks['peaks']\n",
    "        for i in range(len(peaks[0])):\n",
    "            print('{}. {} : {:.6f}'.format(i, peaks[0][i], peaks[1][i]))\n",
    "        histogram_computed = True\n",
    "    except RuntimeError:\n",
    "        bins += -1"
   ]
  },
  {
   "cell_type": "code",
   "execution_count": null,
   "metadata": {},
   "outputs": [],
   "source": [
    "hist_tonic_index = 1\n",
    "hist_tonic = rec_obj.histogram.peaks['peaks'][0][hist_tonic_index]\n",
    "print(hist_tonic)"
   ]
  },
  {
   "cell_type": "code",
   "execution_count": null,
   "metadata": {},
   "outputs": [],
   "source": [
    "tonic = 0\n",
    "distance = 1\n",
    "\n",
    "for p in f0[f0>0]:\n",
    "    current_distance = np.abs(p - hist_tonic)\n",
    "    if current_distance < distance:\n",
    "        tonic = p\n",
    "        distance = current_distance\n",
    "        \n",
    "print(tonic)"
   ]
  },
  {
   "cell_type": "code",
   "execution_count": null,
   "metadata": {},
   "outputs": [],
   "source": [
    "f0cents = 1200 * np.log2(f0[f0>0] / hist_tonic)"
   ]
  },
  {
   "cell_type": "code",
   "execution_count": null,
   "metadata": {},
   "outputs": [],
   "source": [
    "pitch_obj = intonation.Pitch(timeStamps[f0>0], f0cents)\n",
    "\n",
    "rec_obj = intonation.Recording(pitch_obj)\n",
    "rec_obj.compute_hist(bins=bins)\n",
    "rec_obj.histogram.get_peaks()\n",
    "rec_obj.histogram.plot()\n",
    "peaks = rec_obj.histogram.peaks['peaks']\n",
    "for i in range(len(peaks[0])):\n",
    "    print('{}. {} : {:.6f}'.format(i, peaks[0][i], peaks[1][i]))"
   ]
  },
  {
   "cell_type": "code",
   "execution_count": null,
   "metadata": {},
   "outputs": [],
   "source": [
    "pitchTrackDict = {}\n",
    "\n",
    "for i in range(len(f0)):\n",
    "    key = '{:.2f}'.format(timeStamps[i])\n",
    "    if f0[i] == 0:\n",
    "        value = 's'\n",
    "    else:\n",
    "        value = np.round(1200 * np.log2(f0[i] / hist_tonic))\n",
    "    pitchTrackDict[key] = value"
   ]
  },
  {
   "cell_type": "code",
   "execution_count": null,
   "metadata": {},
   "outputs": [],
   "source": [
    "print(json.dumps(pitchTrackDict))"
   ]
  },
  {
   "cell_type": "code",
   "execution_count": null,
   "metadata": {},
   "outputs": [],
   "source": []
  }
 ],
 "metadata": {
  "kernelspec": {
   "display_name": "Python 3",
   "language": "python",
   "name": "python3"
  },
  "language_info": {
   "codemirror_mode": {
    "name": "ipython",
    "version": 3
   },
   "file_extension": ".py",
   "mimetype": "text/x-python",
   "name": "python",
   "nbconvert_exporter": "python",
   "pygments_lexer": "ipython3",
   "version": "3.7.7"
  }
 },
 "nbformat": 4,
 "nbformat_minor": 4
}
